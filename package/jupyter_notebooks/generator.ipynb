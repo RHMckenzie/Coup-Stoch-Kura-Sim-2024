{
 "cells": [
  {
   "cell_type": "code",
   "execution_count": 4,
   "metadata": {},
   "outputs": [],
   "source": [
    "#search and replace function\n",
    "def recc_search_replace(a, val, new_val):\n",
    "    if type(a) is dict:\n",
    "        for k in a.keys():\n",
    "            if type(a[k]) is dict or type(a[k]) is list:\n",
    "                recc_search_replace(a[k], val, new_val)\n",
    "                continue\n",
    "            if k == val:\n",
    "                a[k] = new_val\n",
    "    elif type(a) is list:\n",
    "        for l in a:\n",
    "            if type(l) is dict or type(l) is list:\n",
    "                recc_search_replace(l, val, new_val)\n",
    "             \n",
    "             "
   ]
  },
  {
   "cell_type": "code",
   "execution_count": 5,
   "metadata": {},
   "outputs": [
    {
     "name": "stdout",
     "output_type": "stream",
     "text": [
      "{'settings': {'_comment1': 'Folder name to save things to, leave null for unnamed run', 'save_folder': None, '_comment2': 'Whether to timestamp the above folder for easy recording of data', 'time_stamp': True, '_comment3': 'Force all random seeds to be some equal value stored at graph savetime', 'force_seed': True, '_comment4': 'Whether to save state information DEPRECATED AS THIS SETTING IS AVAILABLE PER PROCESS', 'save_state': True, '_comment5': 'Seed Value, currently only for recording purposes', 'seed': None, '_comment6': 'Amount of times run, usually paird with force_seed to set a random seed for n runs', 'n_batch': 3, '_comment7': 'Print debug information', 'debug_prints': True, '_comment8': 'Save JSON to data folder', 'save_json': True}, 'graph': {'_comment': 'the name of the graph function (found in GRAPH_FUNCTIONS under parser.py)', 'function': 'strong_watts_strogatz', '_comment2': 'the appropriate arguments for said function', 'arguments': {'seed': None, 'n': 100, 'k': 4, 'p': 0.01, 'tries': 1000}, '_comment3': 'a list of settings that apply specifically to the graph', 'settings': {'_comment_normalise': 'whether to ensure that the in-degree is 1 (or 0 for edgeless nodes)', 'normalise': True, '_comment_store_graph': \"Whether to store the adjacency matrix of the graph to a file (usually true, but can't presume)\", 'store_graph': True, '_comment_couple': 'The self-coupling value of the adjacency matrix', 'cross_couple_value': 0.75}}, '_comment_processes': \"Each process' result is stored and used in post_processing information\", 'processes': [{'_comment1': 'A simple Kuramoto Process', 'function': 'kuramoto_euler', 'arguments': {'seed': None, 't': 750, 'dt': 0.1, 'zeta': 0.1, 'prog_bar': False}, 'settings': {'_comment_filter': 'Select data to not record when running this process, usually done to save space', 'filter': ['all_states', 'order_parameters']}}, {'_comment1': 'An older, slower (but perhaps more stable) implementation of kuramoto', 'function': 'kuramoto_old', 'arguments': {'seed': None, 't': 750, 'dt': 0.1, 'zeta': 0.1, 'prog_bar': False}, 'settings': {'_comment_filter': 'Select data to not record when running this process, usually done to save space', 'filter': ['all_states', 'order_parameters']}}, {'_comment1': 'An rk4 implementation', 'function': 'kuramoto_rk4', 'arguments': {'seed': None, 't': 750, 'dt': 0.5, 'zeta': 0.1, 'prog_bar': False}, 'settings': {'_comment_filter': 'Select data to not record when running this process, usually done to save space', 'filter': ['all_states', 'order_parameters']}}, {'_comment1': 'An Euler implementation of O-U process', 'function': 'ou_euler', 'arguments': {'seed': None, 't': 750, 'dt': 0.1, 'zeta': 0.1, 'prog_bar': False, 'vectorised': True}, 'settings': {'_comment_filter': 'Select data to not record when running this process, usually done to save space', 'filter': ['all_states']}}, {'_comment1': 'Covariance Calculation, not a stochastic process', 'function': 'analytical_sigma_cont', 'arguments': {'max_iter': 10000, 'zeta': 0.1}}, {'_comment1': 'Covariance Calculation (discrete), not a stochastic process', 'function': 'analytical_sigma_discrete', 'arguments': {'max_iter': 10000, 'zeta': 0.1}}, {'_comment1': 'Covariance Calculation (discrete that approximates a continuous process), not a stochastic process', 'function': 'analytical_sigma_discrete_approx', 'arguments': {'max_iter': 10000, 'zeta': 0.1, 'dt': 0.1, 'include_dt_final': True}}], 'post_process': []}\n"
     ]
    }
   ],
   "source": [
    "#VALIDATION CELL\n",
    "\n",
    "import json\n",
    "d = []\n",
    "with open(\"example.json\", \"r\") as f:\n",
    "    d = json.load(f)\n",
    "t = d.copy()\n",
    "#print(d)"
   ]
  },
  {
   "cell_type": "code",
   "execution_count": 7,
   "metadata": {},
   "outputs": [],
   "source": [
    "#A json replacement function\n",
    "def setup_json(old_json, new_json, **kwargs):\n",
    "    d = []\n",
    "    with open(old_json, \"r\") as f:\n",
    "        d = json.load(f)\n",
    "    for k in kwargs:\n",
    "        recc_search_replace(d, k, kwargs[k])\n",
    "    with open(new_json, \"w\") as f:\n",
    "        json.dump(d, f, indent=4)\n",
    "\n",
    "#setup_json(\"example.json\", \"new.json\", seed=500, p = 0.1, n = 500)"
   ]
  },
  {
   "cell_type": "code",
   "execution_count": 2,
   "metadata": {},
   "outputs": [
    {
     "name": "stdout",
     "output_type": "stream",
     "text": [
      "[0.007 0.01  0.014 0.019 0.027 0.039 0.055 0.078 0.111 0.157 0.223 0.317\n",
      " 0.449 0.638 0.905] [0.1  0.15 0.2  0.25 0.3  0.35 0.4  0.45] [0.1 0.2 0.3 0.4 0.5 0.6 0.7 0.8]\n"
     ]
    }
   ],
   "source": [
    "#Variable ranges and steps are defined here, P, sigma and C.\n",
    "\n",
    "import numpy as np\n",
    "import itertools\n",
    "import functools\n",
    "\n",
    "#define p, c, and sigma here\n",
    "p = np.exp(np.arange(-5, 0, 0.35))\n",
    "p = np.round(p, 3)\n",
    "c = np.arange(0.1, 0.9, 0.1)\n",
    "sigma = np.arange(0.1, 0.5, 0.05)\n",
    "#k = np.arange(4, 40, 2)\n",
    "\n",
    "print(p, sigma, c)\n",
    "\n",
    "\n"
   ]
  },
  {
   "cell_type": "code",
   "execution_count": 6,
   "metadata": {},
   "outputs": [
    {
     "name": "stdout",
     "output_type": "stream",
     "text": [
      "[{'p': 0.007, 'zeta': 0.1, 'cross_couple_value': 0.1}, {'p': 0.007, 'zeta': 0.1, 'cross_couple_value': 0.2}, {'p': 0.007, 'zeta': 0.1, 'cross_couple_value': 0.3}, {'p': 0.007, 'zeta': 0.1, 'cross_couple_value': 0.4}, {'p': 0.007, 'zeta': 0.1, 'cross_couple_value': 0.5}]\n"
     ]
    }
   ],
   "source": [
    "# creates a carteasean product reduction of the input lsits.\n",
    "\n",
    "def product_reduce(*args, input_list = []):\n",
    "    x = []\n",
    "    for i in args:\n",
    "        x.append(i)\n",
    "    x += input_list\n",
    "    return functools.reduce(lambda a,b: [(*(i[0]), i[1]) if hasattr(i[0], '__iter__') else (i[0], i[1]) for i in itertools.product(a,b)], x)\n",
    "l = product_reduce(p, sigma, c)\n",
    "#print(l)\n",
    "\n",
    "\n",
    "#creates dictionary from input list reduction\n",
    "order = ['p', 'zeta', 'cross_couple_value']\n",
    "l = [tuple([float(np.round(j, 4)) for j in x]) for x in l]\n",
    "l = [dict((order[i], j[i]) for i in range(len(order))) for j in l]\n",
    "print(l[0:5])"
   ]
  },
  {
   "cell_type": "code",
   "execution_count": 3,
   "metadata": {},
   "outputs": [
    {
     "name": "stdout",
     "output_type": "stream",
     "text": [
      "[{'p': 0.014, 'zeta': 0.35, 'cross_couple_value': 0.8}\n",
      " {'p': 0.01, 'zeta': 0.15, 'cross_couple_value': 0.1}\n",
      " {'p': 0.157, 'zeta': 0.15, 'cross_couple_value': 0.2}\n",
      " {'p': 0.317, 'zeta': 0.4, 'cross_couple_value': 0.6}\n",
      " {'p': 0.01, 'zeta': 0.25, 'cross_couple_value': 0.8}\n",
      " {'p': 0.014, 'zeta': 0.35, 'cross_couple_value': 0.3}\n",
      " {'p': 0.449, 'zeta': 0.2, 'cross_couple_value': 0.8}\n",
      " {'p': 0.055, 'zeta': 0.4, 'cross_couple_value': 0.8}\n",
      " {'p': 0.055, 'zeta': 0.15, 'cross_couple_value': 0.2}\n",
      " {'p': 0.317, 'zeta': 0.1, 'cross_couple_value': 0.4}]\n"
     ]
    },
    {
     "name": "stderr",
     "output_type": "stream",
     "text": [
      "  0%|          | 0/960 [00:00<?, ?it/s]\n"
     ]
    },
    {
     "ename": "NameError",
     "evalue": "name 'setup_json' is not defined",
     "output_type": "error",
     "traceback": [
      "\u001b[1;31m---------------------------------------------------------------------------\u001b[0m",
      "\u001b[1;31mNameError\u001b[0m                                 Traceback (most recent call last)",
      "\u001b[1;32m~\\AppData\\Local\\Temp\\ipykernel_51188\\3401973089.py\u001b[0m in \u001b[0;36m<cell line: 27>\u001b[1;34m()\u001b[0m\n\u001b[0;32m     43\u001b[0m     \u001b[0md_i\u001b[0m\u001b[1;33m[\u001b[0m\u001b[1;34m\"k\"\u001b[0m\u001b[1;33m]\u001b[0m \u001b[1;33m=\u001b[0m \u001b[1;36m4\u001b[0m\u001b[1;33m\u001b[0m\u001b[1;33m\u001b[0m\u001b[0m\n\u001b[0;32m     44\u001b[0m \u001b[1;33m\u001b[0m\u001b[0m\n\u001b[1;32m---> 45\u001b[1;33m     \u001b[0msetup_json\u001b[0m\u001b[1;33m(\u001b[0m\u001b[1;34m\"final_template.json\"\u001b[0m\u001b[1;33m,\u001b[0m \u001b[0mfn\u001b[0m\u001b[1;33m,\u001b[0m \u001b[1;33m**\u001b[0m\u001b[0md_i\u001b[0m\u001b[1;33m)\u001b[0m\u001b[1;33m\u001b[0m\u001b[1;33m\u001b[0m\u001b[0m\n\u001b[0m",
      "\u001b[1;31mNameError\u001b[0m: name 'setup_json' is not defined"
     ]
    }
   ],
   "source": [
    "import tqdm\n",
    "\n",
    "rng = np.random.default_rng()\n",
    "#print(np.array(l))\n",
    "j = rng.choice(l, 10, replace=False)\n",
    "print(j)\n",
    "\n",
    "l = tqdm.tqdm(l)\n",
    "for i in l:\n",
    "    #modify project information here\n",
    "\n",
    "    #modify filename/location\n",
    "    fn = 'tests/p-%.3f_sigma-%.3f_c-%.3f' % (i['p'], i['zeta'], i['cross_couple_value'])\n",
    "    fn = fn + '.json'\n",
    "\n",
    "    #modify attributes p, c, sigma, etc. as defined above\n",
    "    d_i = {l: float(i[l]) for l in i}\n",
    "\n",
    "    #modify save folder\n",
    "    d_i[\"save_folder\"] = fn.replace(\"tests\", \"/project/TB_NN_INFOTHEORY/rmck6484_thesis/data\").replace('.json','')\n",
    "\n",
    "    #modify time\n",
    "    d_i[\"t\"] = 10000\n",
    "    d_i[\"dt\"] = 0.01\n",
    "\n",
    "    #modify nearest neighbours and batch\n",
    "    d_i[\"n_batch\"] = 2\n",
    "    d_i[\"k\"] = 4\n",
    "\n",
    "    #presume you have final_template.json from json_templates/\n",
    "    setup_json(\"final_template.json\", fn, **d_i)"
   ]
  }
 ],
 "metadata": {
  "kernelspec": {
   "display_name": "Python 3 (ipykernel)",
   "language": "python",
   "name": "python3"
  },
  "language_info": {
   "codemirror_mode": {
    "name": "ipython",
    "version": 3
   },
   "file_extension": ".py",
   "mimetype": "text/x-python",
   "name": "python",
   "nbconvert_exporter": "python",
   "pygments_lexer": "ipython3",
   "version": "3.10.6"
  }
 },
 "nbformat": 4,
 "nbformat_minor": 4
}
